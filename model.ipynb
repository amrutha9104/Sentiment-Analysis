{
 "cells": [
  {
   "cell_type": "code",
   "execution_count": 2,
   "id": "5ea18289",
   "metadata": {},
   "outputs": [],
   "source": [
    "import pandas as pd\n",
    "import numpy as np\n",
    "import matplotlib.pyplot as plt\n",
    "import seaborn as sns"
   ]
  },
  {
   "cell_type": "code",
   "execution_count": 7,
   "id": "771c89b8",
   "metadata": {},
   "outputs": [],
   "source": [
    "df=pd.read_csv('sentiment_analysis_data.csv')"
   ]
  },
  {
   "cell_type": "code",
   "execution_count": 8,
   "id": "611f0849",
   "metadata": {},
   "outputs": [
    {
     "data": {
      "text/plain": [
       "5842"
      ]
     },
     "execution_count": 8,
     "metadata": {},
     "output_type": "execute_result"
    }
   ],
   "source": [
    "len(df)"
   ]
  },
  {
   "cell_type": "code",
   "execution_count": 9,
   "id": "7132ef09",
   "metadata": {},
   "outputs": [
    {
     "name": "stdout",
     "output_type": "stream",
     "text": [
      "Number of unique values in y: 3\n"
     ]
    }
   ],
   "source": [
    "X = df['Sentence']\n",
    "y = df['Sentiment']\n",
    "\n",
    "print(\"Number of unique values in y:\", len(y.unique()))"
   ]
  },
  {
   "cell_type": "code",
   "execution_count": 10,
   "id": "6d03be15",
   "metadata": {},
   "outputs": [
    {
     "data": {
      "image/png": "[encoded data removed]",
      "text/plain": [
       "<Figure size 1000x500 with 1 Axes>"
      ]
     },
     "metadata": {},
     "output_type": "display_data"
    }
   ],
   "source": [
    "plt.figure(figsize=(10, 5))\n",
    "sns.countplot(x=y)\n",
    "plt.title('Distribution of Sentiments')\n",
    "plt.xlabel('Sentiment')\n",
    "plt.ylabel('Count')\n",
    "plt.show()\n"
   ]
  },
  {
   "cell_type": "code",
   "execution_count": 13,
   "id": "c60eda6d",
   "metadata": {},
   "outputs": [
    {
     "name": "stdout",
     "output_type": "stream",
     "text": [
      "Number of features: 11126\n"
     ]
    }
   ],
   "source": [
    "from sklearn.feature_extraction.text import CountVectorizer\n",
    "\n",
    "vectorizer = CountVectorizer(stop_words='english') # Use English stop words\n",
    "X_vectorized = vectorizer.fit_transform(X)\n",
    "\n",
    "print(\"Number of features:\", len(vectorizer.get_feature_names_out()))"
   ]
  },
  {
   "cell_type": "code",
   "execution_count": 16,
   "id": "e2398cc4",
   "metadata": {},
   "outputs": [
    {
     "name": "stdout",
     "output_type": "stream",
     "text": [
      "The word 'netflix' is present at position: 6882\n"
     ]
    }
   ],
   "source": [
    "vocabulary = vectorizer.vocabulary_\n",
    "if 'netflix' in vocabulary:\n",
    "  print(\"The word 'netflix' is present at position:\", vocabulary['netflix'])\n",
    "else:\n",
    "  print(\"The word 'netflix' is not present in the vocabulary.\")"
   ]
  },
  {
   "cell_type": "code",
   "execution_count": 17,
   "id": "400d0949",
   "metadata": {},
   "outputs": [
    {
     "name": "stdout",
     "output_type": "stream",
     "text": [
      "Number of positive data points in the test data: 472\n"
     ]
    }
   ],
   "source": [
    "from sklearn.model_selection import train_test_split\n",
    "\n",
    "X_train, X_test, y_train, y_test = train_test_split(X, y, test_size=0.25, random_state=5)\n",
    "\n",
    "positive_test_data_count = sum(1 for label in y_test if label == 'positive')\n",
    "print(f\"Number of positive data points in the test data: {positive_test_data_count}\")"
   ]
  },
  {
   "cell_type": "code",
   "execution_count": null,
   "id": "44d64c29",
   "metadata": {},
   "outputs": [
    {
     "name": "stdout",
     "output_type": "stream",
     "text": [
      "Training Accuracy: 0.86\n"
     ]
    }
   ],
   "source": [
    "from sklearn.naive_bayes import MultinomialNB\n",
    "\n",
    "nb_classifier = MultinomialNB()\n",
    "X_train_vectorized = vectorizer.transform(X_train)\n",
    "nb_classifier.fit(X_train_vectorized, y_train)\n",
    "\n",
    "training_accuracy = nb_classifier.score(X_train_vectorized, y_train)\n",
    "print(f\"Training Accuracy: {training_accuracy:.2f}\")"
   ]
  },
  {
   "cell_type": "code",
   "execution_count": 28,
   "id": "afdeabd9",
   "metadata": {},
   "outputs": [
    {
     "name": "stdout",
     "output_type": "stream",
     "text": [
      "Test Accuracy: 0.69\n"
     ]
    }
   ],
   "source": [
    "X_test_vectorized = vectorizer.transform(X_test)\n",
    "test_accuracy = nb_classifier.score(X_test_vectorized, y_test)\n",
    "print(f\"Test Accuracy: {test_accuracy:.2f}\")"
   ]
  },
  {
   "cell_type": "code",
   "execution_count": 34,
   "id": "f622921c",
   "metadata": {},
   "outputs": [
    {
     "name": "stdout",
     "output_type": "stream",
     "text": [
      "Number of neutral data points incorrectly predicted: 166\n"
     ]
    }
   ],
   "source": [
    "y_pred = nb_classifier.predict(X_test_vectorized)\n",
    "incorrect_neutral = np.sum((y_test == 'neutral') & (y_pred != 'neutral'))\n",
    "print(f\"Number of neutral data points incorrectly predicted: {incorrect_neutral}\")"
   ]
  },
  {
   "cell_type": "code",
   "execution_count": 35,
   "id": "ef8870c4",
   "metadata": {},
   "outputs": [
    {
     "data": {
      "text/plain": [
       "'neutral'"
      ]
     },
     "execution_count": 35,
     "metadata": {},
     "output_type": "execute_result"
    }
   ],
   "source": [
    "sentence = ['The compnay XYZ did not perform well in the first quarter. Its sales have been declining.']\n",
    "sentence_vectorized = vectorizer.transform(sentence)\n",
    "predicted_sentiment = nb_classifier.predict(sentence_vectorized)[0]\n",
    "predicted_sentiment"
   ]
  },
  {
   "cell_type": "code",
   "execution_count": 37,
   "id": "fb6cdcfb",
   "metadata": {},
   "outputs": [
    {
     "data": {
      "text/plain": [
       "'positive'"
      ]
     },
     "execution_count": 37,
     "metadata": {},
     "output_type": "execute_result"
    }
   ],
   "source": [
    "sentence = ['The growth rate of the company has been positive. Its shares price is also increasing. Customers like the companys policies']\n",
    "sentence_vectorized = vectorizer.transform(sentence)\n",
    "predicted_sentiment = nb_classifier.predict(sentence_vectorized)[0]\n",
    "predicted_sentiment"
   ]
  }
 ],
 "metadata": {
  "kernelspec": {
   "display_name": "base",
   "language": "python",
   "name": "python3"
  },
  "language_info": {
   "codemirror_mode": {
    "name": "ipython",
    "version": 3
   },
   "file_extension": ".py",
   "mimetype": "text/x-python",
   "name": "python",
   "nbconvert_exporter": "python",
   "pygments_lexer": "ipython3",
   "version": "3.11.5"
  }
 },
 "nbformat": 4,
 "nbformat_minor": 5
}
